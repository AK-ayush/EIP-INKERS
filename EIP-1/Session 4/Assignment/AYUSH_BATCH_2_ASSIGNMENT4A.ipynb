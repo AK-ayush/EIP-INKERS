{
  "nbformat": 4,
  "nbformat_minor": 0,
  "metadata": {
    "colab": {
      "name": "mnist.ipynb",
      "version": "0.3.2",
      "views": {},
      "default_view": {},
      "provenance": [],
      "collapsed_sections": []
    },
    "kernelspec": {
      "name": "python3",
      "display_name": "Python 3"
    },
    "accelerator": "GPU"
  },
  "cells": [
    {
      "metadata": {
        "id": "OeY86khZOchU",
        "colab_type": "code",
        "colab": {
          "autoexec": {
            "startup": false,
            "wait_interval": 0
          },
          "base_uri": "https://localhost:8080/",
          "height": 34
        },
        "outputId": "e268b61b-ff4f-4c32-d438-f01d12788e0a",
        "executionInfo": {
          "status": "ok",
          "timestamp": 1525524385781,
          "user_tz": -330,
          "elapsed": 1044,
          "user": {
            "displayName": "Ayush Kumar",
            "photoUrl": "//lh5.googleusercontent.com/-sM-9Lx9a9ho/AAAAAAAAAAI/AAAAAAAAAJA/r4M9qnWrAms/s50-c-k-no/photo.jpg",
            "userId": "116077844964253791252"
          }
        }
      },
      "cell_type": "code",
      "source": [
        "import tensorflow as tf\n",
        "device_name = tf.test.gpu_device_name()\n",
        "if device_name != '/device:GPU:0':\n",
        "  raise SystemError('GPU device not found')\n",
        "print('Found GPU at: {}'.format(device_name))"
      ],
      "execution_count": 76,
      "outputs": [
        {
          "output_type": "stream",
          "text": [
            "Found GPU at: /device:GPU:0\n"
          ],
          "name": "stdout"
        }
      ]
    },
    {
      "metadata": {
        "id": "BDUiPfSmOx55",
        "colab_type": "code",
        "colab": {
          "autoexec": {
            "startup": false,
            "wait_interval": 0
          }
        }
      },
      "cell_type": "code",
      "source": [
        "# https://keras.io/\n",
        "!pip install -q keras\n",
        "import keras"
      ],
      "execution_count": 0,
      "outputs": []
    },
    {
      "metadata": {
        "id": "TUO0BkmbPBl1",
        "colab_type": "code",
        "colab": {
          "autoexec": {
            "startup": false,
            "wait_interval": 0
          }
        }
      },
      "cell_type": "code",
      "source": [
        "import numpy as np\n",
        "\n",
        "from keras.models import Sequential\n",
        "from keras.layers import Dense, Dropout, Activation, Flatten, Add\n",
        "from keras.layers import Convolution2D, MaxPooling2D\n",
        "from keras.utils import np_utils\n",
        "import keras\n",
        "from keras.datasets import mnist"
      ],
      "execution_count": 0,
      "outputs": []
    },
    {
      "metadata": {
        "id": "h3WdgZmCPCTF",
        "colab_type": "code",
        "colab": {
          "autoexec": {
            "startup": false,
            "wait_interval": 0
          }
        }
      },
      "cell_type": "code",
      "source": [
        "(X_train, y_train), (X_test, y_test) = mnist.load_data()"
      ],
      "execution_count": 0,
      "outputs": []
    },
    {
      "metadata": {
        "id": "GVv-JxWvPGW0",
        "colab_type": "code",
        "colab": {
          "autoexec": {
            "startup": false,
            "wait_interval": 0
          },
          "base_uri": "https://localhost:8080/",
          "height": 299
        },
        "outputId": "0c613e7c-1187-4f6e-8d9b-e3068ffc53b6",
        "executionInfo": {
          "status": "ok",
          "timestamp": 1525524392130,
          "user_tz": -330,
          "elapsed": 1060,
          "user": {
            "displayName": "Ayush Kumar",
            "photoUrl": "//lh5.googleusercontent.com/-sM-9Lx9a9ho/AAAAAAAAAAI/AAAAAAAAAJA/r4M9qnWrAms/s50-c-k-no/photo.jpg",
            "userId": "116077844964253791252"
          }
        }
      },
      "cell_type": "code",
      "source": [
        "print (X_train.shape)\n",
        "from matplotlib import pyplot as plt\n",
        "%matplotlib inline\n",
        "plt.imshow(X_train[2])"
      ],
      "execution_count": 80,
      "outputs": [
        {
          "output_type": "stream",
          "text": [
            "(60000, 28, 28)\n"
          ],
          "name": "stdout"
        },
        {
          "output_type": "execute_result",
          "data": {
            "text/plain": [
              "<matplotlib.image.AxesImage at 0x7fa1bb6f4ef0>"
            ]
          },
          "metadata": {
            "tags": []
          },
          "execution_count": 80
        },
        {
          "output_type": "display_data",
          "data": {
            "image/png": "[encoded data removed]",
            "text/plain": [
              "<matplotlib.figure.Figure at 0x7fa1c01d9be0>"
            ]
          },
          "metadata": {
            "tags": []
          }
        }
      ]
    },
    {
      "metadata": {
        "id": "LYrK5YcTPJsE",
        "colab_type": "code",
        "colab": {
          "autoexec": {
            "startup": false,
            "wait_interval": 0
          }
        }
      },
      "cell_type": "code",
      "source": [
        "# Creating a 4D tensor out of existing train images and test images\n",
        "X_train = X_train.reshape(X_train.shape[0], 28, 28,1)\n",
        "X_test = X_test.reshape(X_test.shape[0], 28, 28,1)\n",
        "X_train =X_train/255\n",
        "X_test =X_test/255"
      ],
      "execution_count": 0,
      "outputs": []
    },
    {
      "metadata": {
        "id": "j4aYOedbQBy1",
        "colab_type": "code",
        "colab": {
          "autoexec": {
            "startup": false,
            "wait_interval": 0
          },
          "base_uri": "https://localhost:8080/",
          "height": 34
        },
        "outputId": "b995cd00-4629-4552-beff-219ab2ffb942",
        "executionInfo": {
          "status": "ok",
          "timestamp": 1525524394485,
          "user_tz": -330,
          "elapsed": 864,
          "user": {
            "displayName": "Ayush Kumar",
            "photoUrl": "//lh5.googleusercontent.com/-sM-9Lx9a9ho/AAAAAAAAAAI/AAAAAAAAAJA/r4M9qnWrAms/s50-c-k-no/photo.jpg",
            "userId": "116077844964253791252"
          }
        }
      },
      "cell_type": "code",
      "source": [
        "y_train[:10]"
      ],
      "execution_count": 82,
      "outputs": [
        {
          "output_type": "execute_result",
          "data": {
            "text/plain": [
              "array([5, 0, 4, 1, 9, 2, 1, 3, 1, 4], dtype=uint8)"
            ]
          },
          "metadata": {
            "tags": []
          },
          "execution_count": 82
        }
      ]
    },
    {
      "metadata": {
        "id": "2d5AJj8WQhPs",
        "colab_type": "code",
        "colab": {
          "autoexec": {
            "startup": false,
            "wait_interval": 0
          }
        }
      },
      "cell_type": "code",
      "source": [
        "# Convert 1-dimensional class arrays to 10-dimensional class matrices using 1-hot encoding\n",
        "Y_train = np_utils.to_categorical(y_train, 10)\n",
        "Y_test = np_utils.to_categorical(y_test, 10)"
      ],
      "execution_count": 0,
      "outputs": []
    },
    {
      "metadata": {
        "id": "-_f_XdXgQyxg",
        "colab_type": "code",
        "colab": {
          "autoexec": {
            "startup": false,
            "wait_interval": 0
          },
          "base_uri": "https://localhost:8080/",
          "height": 187
        },
        "outputId": "07eba586-052f-415f-de3e-0f8fd27521ac",
        "executionInfo": {
          "status": "ok",
          "timestamp": 1525524396133,
          "user_tz": -330,
          "elapsed": 696,
          "user": {
            "displayName": "Ayush Kumar",
            "photoUrl": "//lh5.googleusercontent.com/-sM-9Lx9a9ho/AAAAAAAAAAI/AAAAAAAAAJA/r4M9qnWrAms/s50-c-k-no/photo.jpg",
            "userId": "116077844964253791252"
          }
        }
      },
      "cell_type": "code",
      "source": [
        "Y_train[:10]"
      ],
      "execution_count": 84,
      "outputs": [
        {
          "output_type": "execute_result",
          "data": {
            "text/plain": [
              "array([[0., 0., 0., 0., 0., 1., 0., 0., 0., 0.],\n",
              "       [1., 0., 0., 0., 0., 0., 0., 0., 0., 0.],\n",
              "       [0., 0., 0., 0., 1., 0., 0., 0., 0., 0.],\n",
              "       [0., 1., 0., 0., 0., 0., 0., 0., 0., 0.],\n",
              "       [0., 0., 0., 0., 0., 0., 0., 0., 0., 1.],\n",
              "       [0., 0., 1., 0., 0., 0., 0., 0., 0., 0.],\n",
              "       [0., 1., 0., 0., 0., 0., 0., 0., 0., 0.],\n",
              "       [0., 0., 0., 1., 0., 0., 0., 0., 0., 0.],\n",
              "       [0., 1., 0., 0., 0., 0., 0., 0., 0., 0.],\n",
              "       [0., 0., 0., 0., 1., 0., 0., 0., 0., 0.]], dtype=float32)"
            ]
          },
          "metadata": {
            "tags": []
          },
          "execution_count": 84
        }
      ]
    },
    {
      "metadata": {
        "id": "KxrUwq44Q1sA",
        "colab_type": "code",
        "colab": {
          "autoexec": {
            "startup": false,
            "wait_interval": 0
          },
          "base_uri": "https://localhost:8080/",
          "height": 105
        },
        "outputId": "57cefefd-532c-44e6-f4eb-588d1fb34bd5",
        "executionInfo": {
          "status": "ok",
          "timestamp": 1525524397146,
          "user_tz": -330,
          "elapsed": 961,
          "user": {
            "displayName": "Ayush Kumar",
            "photoUrl": "//lh5.googleusercontent.com/-sM-9Lx9a9ho/AAAAAAAAAAI/AAAAAAAAAJA/r4M9qnWrAms/s50-c-k-no/photo.jpg",
            "userId": "116077844964253791252"
          }
        }
      },
      "cell_type": "code",
      "source": [
        "model = Sequential()\n",
        "\n",
        " \n",
        "model.add(Convolution2D(32, 7, 7, activation='relu', input_shape=(28,28,1)))\n",
        "model.add(Convolution2D(15, 3, 3, activation='relu'))\n",
        "model.add(Convolution2D(10, 20))\n",
        "model.add(Flatten())\n",
        "model.add(Activation('softmax'))"
      ],
      "execution_count": 85,
      "outputs": [
        {
          "output_type": "stream",
          "text": [
            "/usr/local/lib/python3.6/dist-packages/ipykernel_launcher.py:4: UserWarning: Update your `Conv2D` call to the Keras 2 API: `Conv2D(32, (7, 7), activation=\"relu\", input_shape=(28, 28, 1...)`\n",
            "  after removing the cwd from sys.path.\n",
            "/usr/local/lib/python3.6/dist-packages/ipykernel_launcher.py:5: UserWarning: Update your `Conv2D` call to the Keras 2 API: `Conv2D(15, (3, 3), activation=\"relu\")`\n",
            "  \"\"\"\n"
          ],
          "name": "stderr"
        }
      ]
    },
    {
      "metadata": {
        "id": "Fm2MmGRZSFj-",
        "colab_type": "code",
        "colab": {
          "autoexec": {
            "startup": false,
            "wait_interval": 0
          },
          "base_uri": "https://localhost:8080/",
          "height": 306
        },
        "outputId": "8ff4d9f1-aa7c-4306-eda9-5b3fac5f481c",
        "executionInfo": {
          "status": "ok",
          "timestamp": 1525524398170,
          "user_tz": -330,
          "elapsed": 970,
          "user": {
            "displayName": "Ayush Kumar",
            "photoUrl": "//lh5.googleusercontent.com/-sM-9Lx9a9ho/AAAAAAAAAAI/AAAAAAAAAJA/r4M9qnWrAms/s50-c-k-no/photo.jpg",
            "userId": "116077844964253791252"
          }
        }
      },
      "cell_type": "code",
      "source": [
        "model.summary()"
      ],
      "execution_count": 86,
      "outputs": [
        {
          "output_type": "stream",
          "text": [
            "_________________________________________________________________\n",
            "Layer (type)                 Output Shape              Param #   \n",
            "=================================================================\n",
            "conv2d_13 (Conv2D)           (None, 22, 22, 32)        1600      \n",
            "_________________________________________________________________\n",
            "conv2d_14 (Conv2D)           (None, 20, 20, 15)        4335      \n",
            "_________________________________________________________________\n",
            "conv2d_15 (Conv2D)           (None, 1, 1, 10)          60010     \n",
            "_________________________________________________________________\n",
            "flatten_5 (Flatten)          (None, 10)                0         \n",
            "_________________________________________________________________\n",
            "activation_5 (Activation)    (None, 10)                0         \n",
            "=================================================================\n",
            "Total params: 65,945\n",
            "Trainable params: 65,945\n",
            "Non-trainable params: 0\n",
            "_________________________________________________________________\n"
          ],
          "name": "stdout"
        }
      ]
    },
    {
      "metadata": {
        "id": "DD3EfVLxRE9E",
        "colab_type": "code",
        "colab": {
          "autoexec": {
            "startup": false,
            "wait_interval": 0
          }
        }
      },
      "cell_type": "code",
      "source": [
        "model.compile(loss='categorical_crossentropy',\n",
        "             optimizer='adam',\n",
        "             metrics=['accuracy'])"
      ],
      "execution_count": 0,
      "outputs": []
    },
    {
      "metadata": {
        "id": "reWJWPLjEUHL",
        "colab_type": "code",
        "colab": {
          "autoexec": {
            "startup": false,
            "wait_interval": 0
          }
        }
      },
      "cell_type": "code",
      "source": [
        "from keras.callbacks import ModelCheckpoint\n",
        "filepath=\"model_best.hdf5\"\n",
        "bestModel = ModelCheckpoint(filepath, monitor='val_acc', verbose=1, save_best_only=True, mode='max')"
      ],
      "execution_count": 0,
      "outputs": []
    },
    {
      "metadata": {
        "id": "9JTiIX7mRU85",
        "colab_type": "code",
        "colab": {
          "autoexec": {
            "startup": false,
            "wait_interval": 0
          },
          "base_uri": "https://localhost:8080/",
          "height": 714
        },
        "outputId": "1b52b690-6b1b-47e9-d313-244c7d5432e0",
        "executionInfo": {
          "status": "ok",
          "timestamp": 1525524598599,
          "user_tz": -330,
          "elapsed": 198745,
          "user": {
            "displayName": "Ayush Kumar",
            "photoUrl": "//lh5.googleusercontent.com/-sM-9Lx9a9ho/AAAAAAAAAAI/AAAAAAAAAJA/r4M9qnWrAms/s50-c-k-no/photo.jpg",
            "userId": "116077844964253791252"
          }
        }
      },
      "cell_type": "code",
      "source": [
        "model.fit(X_train, Y_train, batch_size=64, epochs=20, validation_data=(X_test, Y_test), callbacks=[bestModel], verbose=0)"
      ],
      "execution_count": 89,
      "outputs": [
        {
          "output_type": "stream",
          "text": [
            "\n",
            "Epoch 00001: val_acc improved from -inf to 0.98350, saving model to model_best.hdf5\n",
            "\n",
            "Epoch 00002: val_acc improved from 0.98350 to 0.98750, saving model to model_best.hdf5\n",
            "\n",
            "Epoch 00003: val_acc did not improve from 0.98750\n",
            "\n",
            "Epoch 00004: val_acc did not improve from 0.98750\n",
            "\n",
            "Epoch 00005: val_acc did not improve from 0.98750\n",
            "\n",
            "Epoch 00006: val_acc improved from 0.98750 to 0.98860, saving model to model_best.hdf5\n",
            "\n",
            "Epoch 00007: val_acc did not improve from 0.98860\n",
            "\n",
            "Epoch 00008: val_acc did not improve from 0.98860\n",
            "\n",
            "Epoch 00009: val_acc did not improve from 0.98860\n",
            "\n",
            "Epoch 00010: val_acc improved from 0.98860 to 0.98900, saving model to model_best.hdf5\n",
            "\n",
            "Epoch 00011: val_acc improved from 0.98900 to 0.98970, saving model to model_best.hdf5\n",
            "\n",
            "Epoch 00012: val_acc did not improve from 0.98970\n",
            "\n",
            "Epoch 00013: val_acc did not improve from 0.98970\n",
            "\n",
            "Epoch 00014: val_acc did not improve from 0.98970\n",
            "\n",
            "Epoch 00015: val_acc did not improve from 0.98970\n",
            "\n",
            "Epoch 00016: val_acc did not improve from 0.98970\n",
            "\n",
            "Epoch 00017: val_acc did not improve from 0.98970\n",
            "\n",
            "Epoch 00018: val_acc did not improve from 0.98970\n",
            "\n",
            "Epoch 00019: val_acc did not improve from 0.98970\n",
            "\n",
            "Epoch 00020: val_acc did not improve from 0.98970\n"
          ],
          "name": "stdout"
        },
        {
          "output_type": "execute_result",
          "data": {
            "text/plain": [
              "<keras.callbacks.History at 0x7fa1bbb96eb8>"
            ]
          },
          "metadata": {
            "tags": []
          },
          "execution_count": 89
        }
      ]
    },
    {
      "metadata": {
        "id": "284H_92uRGCl",
        "colab_type": "code",
        "colab": {
          "autoexec": {
            "startup": false,
            "wait_interval": 0
          },
          "base_uri": "https://localhost:8080/",
          "height": 34
        },
        "outputId": "d60042f4-0589-491b-b260-bbf9664476d8",
        "executionInfo": {
          "status": "ok",
          "timestamp": 1525524600820,
          "user_tz": -330,
          "elapsed": 2197,
          "user": {
            "displayName": "Ayush Kumar",
            "photoUrl": "//lh5.googleusercontent.com/-sM-9Lx9a9ho/AAAAAAAAAAI/AAAAAAAAAJA/r4M9qnWrAms/s50-c-k-no/photo.jpg",
            "userId": "116077844964253791252"
          }
        }
      },
      "cell_type": "code",
      "source": [
        "model.load_weights(\"model_best.hdf5\")\n",
        "score = model.evaluate(X_test, Y_test, verbose=0)\n",
        "print(score)"
      ],
      "execution_count": 90,
      "outputs": [
        {
          "output_type": "stream",
          "text": [
            "[0.04992211781725368, 0.9897]\n"
          ],
          "name": "stdout"
        }
      ]
    },
    {
      "metadata": {
        "id": "pL1pOAWyRIlM",
        "colab_type": "code",
        "colab": {
          "autoexec": {
            "startup": false,
            "wait_interval": 0
          },
          "base_uri": "https://localhost:8080/",
          "height": 340
        },
        "outputId": "69179fd4-c9a0-458b-c885-7cc0c81b39f3",
        "executionInfo": {
          "status": "ok",
          "timestamp": 1525524602694,
          "user_tz": -330,
          "elapsed": 1854,
          "user": {
            "displayName": "Ayush Kumar",
            "photoUrl": "//lh5.googleusercontent.com/-sM-9Lx9a9ho/AAAAAAAAAAI/AAAAAAAAAJA/r4M9qnWrAms/s50-c-k-no/photo.jpg",
            "userId": "116077844964253791252"
          }
        }
      },
      "cell_type": "code",
      "source": [
        "y_pred = model.predict(X_test)\n",
        "print(y_pred[:9])\n",
        "print(y_test[:9])"
      ],
      "execution_count": 91,
      "outputs": [
        {
          "output_type": "stream",
          "text": [
            "[[1.4411594e-15 2.1773842e-18 1.8804682e-12 1.8717165e-11 1.3591594e-21\n",
            "  2.3841966e-15 6.0788928e-27 1.0000000e+00 3.3801167e-16 6.9287875e-10]\n",
            " [2.1084271e-13 1.0093320e-15 1.0000000e+00 2.7105944e-18 4.5746403e-20\n",
            "  3.6533389e-25 4.4014694e-13 7.1585757e-23 3.1144202e-16 2.2044186e-20]\n",
            " [6.1653059e-13 9.9999952e-01 5.4194843e-10 4.0814851e-12 1.9787481e-07\n",
            "  7.6620627e-11 2.3035235e-11 9.3414904e-08 2.0559483e-07 8.4800092e-12]\n",
            " [1.0000000e+00 3.3358368e-22 2.2612464e-11 1.6776179e-17 2.8999294e-14\n",
            "  1.1439194e-15 9.0132453e-13 7.1354823e-12 6.8146294e-14 1.9536284e-09]\n",
            " [2.2610445e-14 1.2534206e-14 5.2373852e-12 3.9202003e-14 1.0000000e+00\n",
            "  5.7711531e-16 1.9143732e-13 1.4602719e-10 3.7283929e-11 3.9507476e-08]\n",
            " [1.0825867e-15 9.9999988e-01 7.2377190e-13 1.4893826e-14 5.9274239e-09\n",
            "  2.7209684e-15 8.2163308e-17 1.3972995e-07 2.7963194e-09 1.1148127e-11]\n",
            " [3.2265976e-20 8.7741641e-13 9.1009661e-10 4.5182577e-17 9.9996018e-01\n",
            "  1.9564507e-10 9.2350621e-19 2.1829010e-12 9.8107584e-08 3.9689494e-05]\n",
            " [3.0251134e-23 7.6630475e-18 1.2921219e-13 6.5480074e-17 9.2493151e-09\n",
            "  1.8020424e-11 5.3432339e-22 2.3902327e-16 1.1288875e-12 1.0000000e+00]\n",
            " [2.8899325e-13 1.4716573e-19 2.6627110e-21 2.3112181e-19 2.8216319e-16\n",
            "  9.9683940e-01 3.1604788e-03 4.9804005e-17 1.1376821e-07 1.7502541e-09]]\n",
            "[7 2 1 0 4 1 4 9 5]\n"
          ],
          "name": "stdout"
        }
      ]
    },
    {
      "metadata": {
        "id": "LJALjrlEOem2",
        "colab_type": "code",
        "colab": {
          "autoexec": {
            "startup": false,
            "wait_interval": 0
          }
        }
      },
      "cell_type": "code",
      "source": [
        ""
      ],
      "execution_count": 0,
      "outputs": []
    }
  ]
}